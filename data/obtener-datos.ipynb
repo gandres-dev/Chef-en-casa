{
 "cells": [
  {
   "cell_type": "code",
   "execution_count": 8,
   "metadata": {},
   "outputs": [],
   "source": [
    "import logging\n",
    "import time \n",
    "from urllib.request import urlopen\n",
    "from bs4 import BeautifulSoup\n",
    "from tqdm import tqdm \n",
    "\n",
    "LOG_FORMAT = \"%(levelname)s %(asctime)s: %(message)s\"\n",
    "logging.basicConfig(level=logging.DEBUG, format=LOG_FORMAT)\n",
    "logger = logging.getLogger()"
   ]
  },
  {
   "cell_type": "code",
   "execution_count": 9,
   "metadata": {},
   "outputs": [],
   "source": [
    "def get_recipes_urls(url):\n",
    "  \"\"\"Obtiene las direcciones url del sitio web de las recetas\n",
    "  \n",
    "  Parametros\n",
    "  ----------\n",
    "  url: str\n",
    "    URL direcction recipes\n",
    "\n",
    "  Return\n",
    "  ------\n",
    "  url_recipes: str\n",
    "    URL's recipes \n",
    "  \"\"\"\n",
    "  html = urlopen(url)\n",
    "  bs = BeautifulSoup(html, 'html.parser')\n",
    "  articles = bs.find_all('article', {'class': {'article-loop', 'asap-columns-3'}})\n",
    "  url_recipes = []\n",
    "  for article in articles:  \n",
    "    url_recipes.append(article.a.get('href'))  \n",
    "  return url_recipes"
   ]
  },
  {
   "cell_type": "code",
   "execution_count": 73,
   "metadata": {},
   "outputs": [],
   "source": [
    "def get_info_recipe(url_recipe):\n",
    "  \"\"\"Get information of the url recipe\n",
    "\n",
    "  Parameters\n",
    "  ---------\n",
    "  url_recipe: str\n",
    "    URL where we find recipe\n",
    "  \n",
    "  Return\n",
    "  -------\n",
    "  recipe: dict\n",
    "    One recipe with format json\n",
    "  \"\"\"\n",
    "  html = urlopen(url_recipe)\n",
    "  bs = BeautifulSoup(html, 'html.parser')\n",
    "  recipe = {}\n",
    "  title = bs.h1.get_text()\n",
    "  recipe['title'] = title\n",
    "  recipe['ingredients'] = []\n",
    "  # We wish complete data or anything.\n",
    "  try:\n",
    "    tags_ingredientes = bs.findAll('ul', class_=None)[0].findAll('li')      \n",
    "    for ingrediente in tags_ingredientes:\n",
    "      recipe['ingredients'].append(ingrediente.getText())    \n",
    "    paragraphs = bs.find('div', class_='the-content').findAll('p', class_=None)[1:-1]\n",
    "    description = \"\"\n",
    "    for i, paragraph in enumerate(paragraphs):\n",
    "      description += paragraph.getText()\n",
    "    url_video = bs.find('iframe').get('src')\n",
    "    url_image = bs.find('div', class_='post-thumbnail').find('img').get('src')    \n",
    "    recipe['procedimiento'] = description\n",
    "    recipe['url_video'] = url_video\n",
    "    recipe['url_image'] = url_image\n",
    "  except:\n",
    "    return None\n",
    "  return recipe"
   ]
  },
  {
   "cell_type": "code",
   "execution_count": 68,
   "metadata": {},
   "outputs": [],
   "source": [
    "# Ejemplo de receta que tiene ingredientes ni descripcion\n",
    "# html = urlopen('https://recetas-mexicanas.com.mx/pimienta-negra')\n",
    "# bs = BeautifulSoup(html, 'html.parser')\n",
    "#bs.findAll('ul', class_=None)[0]"
   ]
  },
  {
   "cell_type": "code",
   "execution_count": 62,
   "metadata": {},
   "outputs": [],
   "source": [
    "\n",
    "def retrieve_recipes(pages=1):\n",
    "  \"\"\"Retrive recipes in the page https://recetas-mexicanas.com.mx\n",
    "  \n",
    "  Parameters\n",
    "  ----------\n",
    "  page: int\n",
    "    Number page of the siteweb\n",
    "  \n",
    "  Return\n",
    "  ------\n",
    "  recipe: list\n",
    "    List recipes of the page\n",
    "  \"\"\"\n",
    "  recipes = []  \n",
    "  # Get 10 recipes by page\n",
    "  url_recipes = get_recipes_urls(f'https://recetas-mexicanas.com.mx/page/{pages}')    \n",
    "  for url_recipe in url_recipes:    \n",
    "    try:\n",
    "      recipe = get_info_recipe(url_recipe)    \n",
    "    except:\n",
    "      logger.warn('Error al desestructurar')        \n",
    "    recipes.append(recipe)\n",
    "    logger.info(f'Agregando {recipe[\"title\"]}...')\n",
    "    time.sleep(2) \n",
    "  return recipes       "
   ]
  },
  {
   "cell_type": "markdown",
   "metadata": {},
   "source": [
    "Example page\n",
    "~~~\n",
    "https://recetas-mexicanas.com.mx/salsa-roja-tatemada\n",
    "https://recetas-mexicanas.com.mx/tacos-labio-res\n",
    "https://recetas-mexicanas.com.mx/ejotes-carne-cerdo\n",
    "https://recetas-mexicanas.com.mx/menudo-rojo\n",
    "https://recetas-mexicanas.com.mx/lengua-salsa-verde\n",
    "https://recetas-mexicanas.com.mx/costillas-rancheras\n",
    "https://recetas-mexicanas.com.mx/espagueti-verde\n",
    "https://recetas-mexicanas.com.mx/pescado-mojo-ajo\n",
    "https://recetas-mexicanas.com.mx/pozole-rojo-cerdo\n",
    "https://recetas-mexicanas.com.mx/costillas-salsa-chiles-secos\n",
    "~~~\n",
    "\n",
    "Structur json\n",
    "~~~\n",
    "{'title': 'Salsa roja tatemada',\n",
    " 'ingredients': ['3 Tomates rojos',\n",
    "  '2 Chiles guajillo',\n",
    "  '2 Jalapeños',\n",
    "  '1 Cebolla blanca',\n",
    "  '3 Dientes de ajo',\n",
    "  '2 Cucharadas de sal'],\n",
    " 'procedimiento': 'El primer paso para...',\n",
    " 'url_video': 'https://www.youtube.com/embed/Qd75WMF7JLc',\n",
    " 'url_image': 'https://recetas-mexicanas.com.mx/wp-content/uploads/2021/06/salsa-roja-tatemada-945x630.jpg'}\n",
    " ~~~"
   ]
  },
  {
   "cell_type": "markdown",
   "metadata": {},
   "source": [
    "\n",
    "## Insertando en la db\n",
    "\n",
    "\n",
    "~~~\n",
    "docker run --name mongo-container -d -p 27017:27017 mongo\n",
    "\n",
    "Si ya existe un contenedor ejecutar:\n",
    "docker start mongo-container\n",
    "\n",
    "Ejecuta el clinete del contentedor\n",
    "docker exec -it mongo-container mongo\n",
    "~~~"
   ]
  },
  {
   "cell_type": "code",
   "execution_count": 58,
   "metadata": {},
   "outputs": [],
   "source": [
    "from pymongo import MongoClient\n",
    "\n",
    "client = MongoClient('localhost', 27017)\n",
    "db = client['chef-casa']\n",
    "recipes_collection = db['recipes']\n",
    "recipes_collection.count_documents({})"
   ]
  },
  {
   "cell_type": "code",
   "execution_count": 65,
   "metadata": {},
   "outputs": [],
   "source": [
    "\n",
    "def schedule(step=1, begin_page=1, end_page=10):\n",
    "  \"\"\"Retrive the data every step time\n",
    "  \n",
    "  step: int\n",
    "    Time lapse for every called in retrive recipes\n",
    "  \"\"\"\n",
    "  recipes = []\n",
    "  for page in tqdm(range(begin_page, end_page+1)):\n",
    "    recipes.extend(retrieve_recipes(page))\n",
    "    time.sleep(step)    \n",
    "  recipes_collection.insert_many(recipes)\n",
    "      \n",
    "\n"
   ]
  }
 ],
 "metadata": {
  "kernelspec": {
   "display_name": "Python 3.10.5 64-bit",
   "language": "python",
   "name": "python3"
  },
  "language_info": {
   "codemirror_mode": {
    "name": "ipython",
    "version": 3
   },
   "file_extension": ".py",
   "mimetype": "text/x-python",
   "name": "python",
   "nbconvert_exporter": "python",
   "pygments_lexer": "ipython3",
   "version": "3.10.5"
  },
  "orig_nbformat": 4,
  "vscode": {
   "interpreter": {
    "hash": "e7370f93d1d0cde622a1f8e1c04877d8463912d04d973331ad4851f04de6915a"
   }
  }
 },
 "nbformat": 4,
 "nbformat_minor": 2
}
